{
 "cells": [
  {
   "cell_type": "code",
   "execution_count": 1,
   "metadata": {},
   "outputs": [],
   "source": [
    "import struct         #Interpret bytes or string as packed binary data\n",
    "import numpy as np\n",
    "from sklearn import svm, metrics\n",
    "import matplotlib.pyplot as plt"
   ]
  },
  {
   "cell_type": "code",
   "execution_count": 2,
   "metadata": {
    "collapsed": true
   },
   "outputs": [],
   "source": [
    "def read_idx(filename):  #Function for reading files having handwritten images\n",
    "    with open(filename, 'rb') as f:\n",
    "        zero, data_type, dims = struct.unpack('>HBB', f.read(4))\n",
    "        shape = tuple(struct.unpack('>I', f.read(4))[0] for d in range(dims))\n",
    "        return np.fromstring(f.read(), dtype=np.uint8).reshape(shape)"
   ]
  },
  {
   "cell_type": "code",
   "execution_count": 3,
   "metadata": {},
   "outputs": [
    {
     "name": "stderr",
     "output_type": "stream",
     "text": [
      "C:\\Users\\hp\\Anaconda3\\envs\\py35\\lib\\site-packages\\ipykernel_launcher.py:5: DeprecationWarning: The binary mode of fromstring is deprecated, as it behaves surprisingly on unicode inputs. Use frombuffer instead\n",
      "  \"\"\"\n"
     ]
    }
   ],
   "source": [
    "raw_train = read_idx(\"train-images.idx3-ubyte\") #Training\n",
    "train_data = np.reshape(raw_train, (60000, 28*28))\n",
    "train_label = read_idx(\"train-labels.idx1-ubyte\")\n",
    "\n",
    "raw_test = read_idx(\"t10k-images.idx3-ubyte\")  #Testing\n",
    "test_data = np.reshape(raw_test, (10000, 28*28))\n",
    "test_label = read_idx(\"t10k-labels.idx1-ubyte\")"
   ]
  },
  {
   "cell_type": "code",
   "execution_count": 4,
   "metadata": {
    "collapsed": true
   },
   "outputs": [],
   "source": [
    "idx = (train_label == 1)|(train_label == 4)|(train_label == 7)|(train_label == 9) #Having large file training done only for images having label as 1,4,7,9\n",
    "X = train_data[idx]/255.0\n",
    "Y = train_label[idx]\n",
    "svc = svm.SVC(C=5, gamma=0.05).fit(X, Y)"
   ]
  },
  {
   "cell_type": "code",
   "execution_count": 5,
   "metadata": {
    "collapsed": true
   },
   "outputs": [],
   "source": [
    "idx = (test_label == 1)|(test_label == 4)|(test_label == 7)|(test_label == 9) # testing done only for images having label as 1,4,7,9\n",
    "x_test = test_data[idx]/255.0\n",
    "y_true = test_label[idx]\n",
    "y_pred = svc.predict(x_test)"
   ]
  },
  {
   "cell_type": "code",
   "execution_count": 6,
   "metadata": {
    "collapsed": true
   },
   "outputs": [],
   "source": [
    "import itertools\n",
    "def plot_confusion_matrix(cm, classes, normalize=False, title='Confusion matrix',  #Function for plotting confusion matrix\n",
    "                         cmap=plt.cm.Blues):\n",
    "    \n",
    "    if normalize:\n",
    "        cm = cm.astype('float') / cm.sum(axis=1)[:,np.newaxis]\n",
    "        print('Normalized confusion matrix')\n",
    "    else:\n",
    "        print('Confusion matrix without normalization')\n",
    "    print(cm)\n",
    "    \n",
    "    plt.imshow(cm, interpolation='nearest', cmap=cmap)\n",
    "    plt.title(title)\n",
    "    plt.colorbar()\n",
    "    tick_marks = np.arange(len(classes))\n",
    "    plt.xticks(tick_marks, classes, rotation=45)\n",
    "    plt.yticks(tick_marks, classes)\n",
    "    \n",
    "    fmt = '.2f' if normalize else 'd'\n",
    "    thresh = cm.max()/2.\n",
    "    for i,j in itertools.product(range(cm.shape[0]), range(cm.shape[1])):\n",
    "        plt.text(j, i, format(cm[i, j], fmt), horizontalalignment=\"center\", color=\"white\" if cm[i,j] > thresh else \"black\")\n",
    "        \n",
    "    plt.tight_layout()\n",
    "    plt.ylabel('True label')\n",
    "    plt.xlabel('Predicted label')"
   ]
  },
  {
   "cell_type": "code",
   "execution_count": 7,
   "metadata": {},
   "outputs": [
    {
     "name": "stdout",
     "output_type": "stream",
     "text": [
      "Confusion matrix without normalization\n",
      "[[1131    0    4    0]\n",
      " [   0  975    0    7]\n",
      " [   4    2 1014    8]\n",
      " [   3    9    5  992]]\n"
     ]
    },
    {
     "data": {
      "image/png": "[encoded data removed]",
      "text/plain": [
       "<Figure size 432x288 with 2 Axes>"
      ]
     },
     "metadata": {},
     "output_type": "display_data"
    }
   ],
   "source": [
    "cm = metrics.confusion_matrix(y_true, y_pred)\n",
    "plot_confusion_matrix(cm, [\"1\",\"4\",\"7\",\"9\"], normalize=False) #Plotting confusion matrix for images 1,4,7,9\n",
    "plt.show()"
   ]
  },
  {
   "cell_type": "code",
   "execution_count": 8,
   "metadata": {},
   "outputs": [
    {
     "name": "stdout",
     "output_type": "stream",
     "text": [
      "Accuracy=0.9898892633606162\n"
     ]
    }
   ],
   "source": [
    "print(\"Accuracy={}\".format(metrics.accuracy_score(y_true, y_pred))) #Percentage accuracy"
   ]
  },
  {
   "cell_type": "code",
   "execution_count": null,
   "metadata": {
    "collapsed": true
   },
   "outputs": [],
   "source": [
    "idx = np.where((y_pred == 4) & (y_true == 9))[0]  #Comparing digit which is actually 9 but has been predicted to be 4\n",
    "fig = plt.figure(figsize=(5, 30))\n",
    "for i in range(len(idx)):\n",
    "    ax = fig.add_subplot(len(idx), 1, i+1)\n",
    "    imgplot = ax.imshow(np.reshape(x_test[idx[i],:], (28,28)), cmap = plt.cm.get_cmap(\"Greys\"))\n",
    "    imgplot.set_interpolation(\"nearest\")\n",
    "plt.show()    "
   ]
  },
  {
   "cell_type": "code",
   "execution_count": null,
   "metadata": {
    "collapsed": true
   },
   "outputs": [],
   "source": [
    "idx = np.where((y_pred == 1) & (y_true == 7))[0]  #Comparing digit which is actually 7 but has been predicted to be 1\n",
    "fig = plt.figure(figsize=(5, 30))\n",
    "for i in range(len(idx)):\n",
    "    ax = fig.add_subplot(len(idx), 1, i+1)\n",
    "    imgplot = ax.imshow(np.reshape(x_test[idx[i],:], (28,28)), cmap = plt.cm.get_cmap(\"Greys\"))\n",
    "    imgplot.set_interpolation(\"nearest\")\n",
    "plt.show()    "
   ]
  }
 ],
 "metadata": {
  "kernelspec": {
   "display_name": "Python 3",
   "language": "python",
   "name": "python3"
  },
  "language_info": {
   "codemirror_mode": {
    "name": "ipython",
    "version": 3
   },
   "file_extension": ".py",
   "mimetype": "text/x-python",
   "name": "python",
   "nbconvert_exporter": "python",
   "pygments_lexer": "ipython3",
   "version": "3.5.4"
  }
 },
 "nbformat": 4,
 "nbformat_minor": 2
}
